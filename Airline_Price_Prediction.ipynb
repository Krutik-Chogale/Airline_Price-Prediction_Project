{
 "cells": [
  {
   "cell_type": "code",
   "execution_count": 1,
   "id": "84f98492-6ea5-4b1a-95d3-17fabdf69023",
   "metadata": {},
   "outputs": [],
   "source": [
    "import pandas as pd\n",
    "import numpy as np\n",
    "import seaborn as sns\n",
    "from sklearn.preprocessing import StandardScaler\n",
    "from sklearn.preprocessing import LabelEncoder\n",
    "from xgboost import XGBRegressor\n",
    "from sklearn.model_selection import train_test_split, RandomizedSearchCV\n",
    "from sklearn.metrics import mean_absolute_error, mean_squared_error, make_scorer\n",
    "from sklearn.feature_selection import SelectKBest, f_regression"
   ]
  },
  {
   "cell_type": "code",
   "execution_count": 2,
   "id": "50bcf6a9-3630-4f82-b500-f29196c8ea16",
   "metadata": {},
   "outputs": [
    {
     "name": "stdout",
     "output_type": "stream",
     "text": [
      "(45000, 19)\n"
     ]
    }
   ],
   "source": [
    "data = pd.read_csv('data/train.csv')\n",
    "print(data.shape) #(45000, 19)"
   ]
  },
  {
   "cell_type": "code",
   "execution_count": 3,
   "id": "1b7e54b9-3dd4-42af-9087-c312e2b3773b",
   "metadata": {},
   "outputs": [
    {
     "name": "stdout",
     "output_type": "stream",
     "text": [
      "Flight_ID                 0\n",
      "Airline                3573\n",
      "Departure_City          340\n",
      "Arrival_City            186\n",
      "Distance                 91\n",
      "Departure_Time            0\n",
      "Arrival_Time              0\n",
      "Duration                  0\n",
      "Aircraft_Type            43\n",
      "Number_of_Stops           0\n",
      "Day_of_Week             225\n",
      "Month_of_Travel         267\n",
      "Holiday_Season         9020\n",
      "Demand                  317\n",
      "Weather_Conditions      302\n",
      "Passenger_Count           0\n",
      "Promotion_Type        15215\n",
      "Fuel_Price               90\n",
      "Flight_Price              0\n",
      "dtype: int64\n"
     ]
    }
   ],
   "source": [
    "print(data.isnull().sum())"
   ]
  },
  {
   "cell_type": "code",
   "execution_count": 4,
   "id": "0b7ed960-961f-4747-b5ea-1e5bb7557fc5",
   "metadata": {},
   "outputs": [
    {
     "name": "stdout",
     "output_type": "stream",
     "text": [
      "<class 'pandas.core.frame.DataFrame'>\n",
      "RangeIndex: 45000 entries, 0 to 44999\n",
      "Data columns (total 19 columns):\n",
      " #   Column              Non-Null Count  Dtype  \n",
      "---  ------              --------------  -----  \n",
      " 0   Flight_ID           45000 non-null  object \n",
      " 1   Airline             41427 non-null  object \n",
      " 2   Departure_City      44660 non-null  object \n",
      " 3   Arrival_City        44814 non-null  object \n",
      " 4   Distance            44909 non-null  float64\n",
      " 5   Departure_Time      45000 non-null  object \n",
      " 6   Arrival_Time        45000 non-null  object \n",
      " 7   Duration            45000 non-null  float64\n",
      " 8   Aircraft_Type       44957 non-null  object \n",
      " 9   Number_of_Stops     45000 non-null  int64  \n",
      " 10  Day_of_Week         44775 non-null  object \n",
      " 11  Month_of_Travel     44733 non-null  object \n",
      " 12  Holiday_Season      35980 non-null  object \n",
      " 13  Demand              44683 non-null  object \n",
      " 14  Weather_Conditions  44698 non-null  object \n",
      " 15  Passenger_Count     45000 non-null  int64  \n",
      " 16  Promotion_Type      29785 non-null  object \n",
      " 17  Fuel_Price          44910 non-null  float64\n",
      " 18  Flight_Price        45000 non-null  float64\n",
      "dtypes: float64(4), int64(2), object(13)\n",
      "memory usage: 6.5+ MB\n",
      "None\n"
     ]
    }
   ],
   "source": [
    "print(data.info())"
   ]
  },
  {
   "cell_type": "code",
   "execution_count": 5,
   "id": "2f99dfba-ac15-4814-a794-85811f8ee404",
   "metadata": {},
   "outputs": [
    {
     "name": "stdout",
     "output_type": "stream",
     "text": [
      "           Distance      Duration  Number_of_Stops  Passenger_Count  \\\n",
      "count  44909.000000  45000.000000     45000.000000     45000.000000   \n",
      "mean    5482.238727      7.852555         0.665667       174.928822   \n",
      "std     2594.847860      3.292880         0.750578        72.372980   \n",
      "min     1000.000000      1.280000         0.000000        50.000000   \n",
      "25%     3230.000000      5.040000         0.000000       112.000000   \n",
      "50%     5476.000000      7.840000         1.000000       175.000000   \n",
      "75%     7725.000000     10.650000         1.000000       238.000000   \n",
      "max    10000.000000     14.450000         3.000000       300.000000   \n",
      "\n",
      "         Fuel_Price  Flight_Price  \n",
      "count  44910.000000  45000.000000  \n",
      "mean       0.850192    574.606270  \n",
      "std        0.201736    160.239344  \n",
      "min        0.500000    173.350000  \n",
      "25%        0.680000    455.297500  \n",
      "50%        0.850000    565.750000  \n",
      "75%        1.020000    679.692500  \n",
      "max        1.200000   1261.640000  \n"
     ]
    }
   ],
   "source": [
    "print(data.describe())"
   ]
  },
  {
   "cell_type": "code",
   "execution_count": 6,
   "id": "6448fdf7-9600-4912-8177-78ca56d4a993",
   "metadata": {},
   "outputs": [
    {
     "data": {
      "text/plain": [
       "Flight_ID                     0\n",
       "Airline                       0\n",
       "Departure_City                0\n",
       "Arrival_City                  0\n",
       "Distance                      0\n",
       "Departure_Time                0\n",
       "Arrival_Time                  0\n",
       "Duration                      0\n",
       "Aircraft_Type                 0\n",
       "Number_of_Stops               0\n",
       "Day_of_Week                   0\n",
       "Month_of_Travel               0\n",
       "Holiday_Season                0\n",
       "Demand                        0\n",
       "Weather_Conditions            0\n",
       "Passenger_Count               0\n",
       "Promotion_Type            15215\n",
       "Fuel_Price                    0\n",
       "Flight_Price                  0\n",
       "Promotion_Type_Missing        0\n",
       "dtype: int64"
      ]
     },
     "execution_count": 6,
     "metadata": {},
     "output_type": "execute_result"
    }
   ],
   "source": [
    "# Handle missing values\n",
    "categorical_columns = ['Airline', 'Departure_City', 'Arrival_City', 'Demand', 'Aircraft_Type', 'Day_of_Week', 'Month_of_Travel','Holiday_Season','Weather_Conditions']\n",
    "\n",
    "for column in categorical_columns:\n",
    "    data[column].fillna('Missing', inplace=True)\n",
    "\n",
    "numerical_columns = ['Distance', 'Fuel_Price']\n",
    "\n",
    "for column in numerical_columns:\n",
    "    data[column].fillna(data[column].median(), inplace=True)\n",
    "\n",
    "data['Promotion_Type_Missing'] = data['Promotion_Type'].isnull().astype(int)\n",
    "\n",
    "data['Fuel_Price'].fillna(data['Fuel_Price'].median(), inplace=True)\n",
    "\n",
    "data.isnull().sum()\n"
   ]
  },
  {
   "cell_type": "code",
   "execution_count": 7,
   "id": "6fcb34b5-b52e-4fe3-a652-6c23548f6dca",
   "metadata": {},
   "outputs": [],
   "source": [
    "# Combine 'Departure_City' and 'Arrival_City' to create a set of unique cities\n",
    "unique_cities = set(data['Departure_City'].unique()) | set(data['Arrival_City'].unique())"
   ]
  },
  {
   "cell_type": "code",
   "execution_count": 8,
   "id": "e6c02d93-2b9e-4cc1-9b97-a628f059699d",
   "metadata": {},
   "outputs": [],
   "source": [
    "# Create a mapping dictionary where each unique city is assigned a unique integer label\n",
    "city_mapping = {city: label for label, city in enumerate(unique_cities)}"
   ]
  },
  {
   "cell_type": "code",
   "execution_count": 9,
   "id": "1a9cf2ed-50a4-4e7a-92f1-4dd5ff4f2898",
   "metadata": {},
   "outputs": [],
   "source": [
    "# Apply the mapping to both 'Departure_City' and 'Arrival_City'\n",
    "data['Departure_City'] = data['Departure_City'].map(city_mapping)\n",
    "data['Arrival_City'] = data['Arrival_City'].map(city_mapping)\n",
    "data['Flight_ID'] = data['Flight_ID'].str.extract('(\\d+)').astype(int)"
   ]
  },
  {
   "cell_type": "code",
   "execution_count": 10,
   "id": "341bedae-8eb7-4ddc-9f16-440e6e60b024",
   "metadata": {},
   "outputs": [
    {
     "data": {
      "text/html": [
       "<div>\n",
       "<style scoped>\n",
       "    .dataframe tbody tr th:only-of-type {\n",
       "        vertical-align: middle;\n",
       "    }\n",
       "\n",
       "    .dataframe tbody tr th {\n",
       "        vertical-align: top;\n",
       "    }\n",
       "\n",
       "    .dataframe thead th {\n",
       "        text-align: right;\n",
       "    }\n",
       "</style>\n",
       "<table border=\"1\" class=\"dataframe\">\n",
       "  <thead>\n",
       "    <tr style=\"text-align: right;\">\n",
       "      <th></th>\n",
       "      <th>Flight_ID</th>\n",
       "      <th>Airline</th>\n",
       "      <th>Departure_City</th>\n",
       "      <th>Arrival_City</th>\n",
       "      <th>Distance</th>\n",
       "      <th>Departure_Time</th>\n",
       "      <th>Arrival_Time</th>\n",
       "      <th>Duration</th>\n",
       "      <th>Aircraft_Type</th>\n",
       "      <th>Number_of_Stops</th>\n",
       "      <th>Day_of_Week</th>\n",
       "      <th>Month_of_Travel</th>\n",
       "      <th>Holiday_Season</th>\n",
       "      <th>Demand</th>\n",
       "      <th>Weather_Conditions</th>\n",
       "      <th>Passenger_Count</th>\n",
       "      <th>Promotion_Type</th>\n",
       "      <th>Fuel_Price</th>\n",
       "      <th>Flight_Price</th>\n",
       "      <th>Promotion_Type_Missing</th>\n",
       "    </tr>\n",
       "  </thead>\n",
       "  <tbody>\n",
       "    <tr>\n",
       "      <th>0</th>\n",
       "      <td>1</td>\n",
       "      <td>Airline B</td>\n",
       "      <td>26290</td>\n",
       "      <td>21253</td>\n",
       "      <td>8286.0</td>\n",
       "      <td>8:23</td>\n",
       "      <td>20:19</td>\n",
       "      <td>11.94</td>\n",
       "      <td>Boeing 787</td>\n",
       "      <td>0</td>\n",
       "      <td>Wednesday</td>\n",
       "      <td>December</td>\n",
       "      <td>Summer</td>\n",
       "      <td>Low</td>\n",
       "      <td>Rain</td>\n",
       "      <td>240</td>\n",
       "      <td>Special Offer</td>\n",
       "      <td>0.91</td>\n",
       "      <td>643.93</td>\n",
       "      <td>0</td>\n",
       "    </tr>\n",
       "    <tr>\n",
       "      <th>1</th>\n",
       "      <td>2</td>\n",
       "      <td>Airline C</td>\n",
       "      <td>11232</td>\n",
       "      <td>11253</td>\n",
       "      <td>2942.0</td>\n",
       "      <td>20:28</td>\n",
       "      <td>1:45</td>\n",
       "      <td>5.29</td>\n",
       "      <td>Airbus A320</td>\n",
       "      <td>0</td>\n",
       "      <td>Wednesday</td>\n",
       "      <td>March</td>\n",
       "      <td>Spring</td>\n",
       "      <td>Low</td>\n",
       "      <td>Rain</td>\n",
       "      <td>107</td>\n",
       "      <td>NaN</td>\n",
       "      <td>1.08</td>\n",
       "      <td>423.13</td>\n",
       "      <td>1</td>\n",
       "    </tr>\n",
       "    <tr>\n",
       "      <th>2</th>\n",
       "      <td>3</td>\n",
       "      <td>Airline B</td>\n",
       "      <td>1634</td>\n",
       "      <td>1242</td>\n",
       "      <td>2468.0</td>\n",
       "      <td>11:30</td>\n",
       "      <td>15:54</td>\n",
       "      <td>4.41</td>\n",
       "      <td>Boeing 787</td>\n",
       "      <td>1</td>\n",
       "      <td>Sunday</td>\n",
       "      <td>September</td>\n",
       "      <td>Summer</td>\n",
       "      <td>High</td>\n",
       "      <td>Cloudy</td>\n",
       "      <td>131</td>\n",
       "      <td>NaN</td>\n",
       "      <td>0.52</td>\n",
       "      <td>442.17</td>\n",
       "      <td>1</td>\n",
       "    </tr>\n",
       "    <tr>\n",
       "      <th>3</th>\n",
       "      <td>4</td>\n",
       "      <td>Missing</td>\n",
       "      <td>1847</td>\n",
       "      <td>29887</td>\n",
       "      <td>3145.0</td>\n",
       "      <td>20:24</td>\n",
       "      <td>1:21</td>\n",
       "      <td>4.96</td>\n",
       "      <td>Boeing 787</td>\n",
       "      <td>0</td>\n",
       "      <td>Sunday</td>\n",
       "      <td>February</td>\n",
       "      <td>Fall</td>\n",
       "      <td>Low</td>\n",
       "      <td>Cloudy</td>\n",
       "      <td>170</td>\n",
       "      <td>Discount</td>\n",
       "      <td>0.71</td>\n",
       "      <td>394.42</td>\n",
       "      <td>0</td>\n",
       "    </tr>\n",
       "    <tr>\n",
       "      <th>4</th>\n",
       "      <td>5</td>\n",
       "      <td>Airline B</td>\n",
       "      <td>28434</td>\n",
       "      <td>8060</td>\n",
       "      <td>5558.0</td>\n",
       "      <td>21:59</td>\n",
       "      <td>6:04</td>\n",
       "      <td>8.09</td>\n",
       "      <td>Boeing 737</td>\n",
       "      <td>1</td>\n",
       "      <td>Thursday</td>\n",
       "      <td>January</td>\n",
       "      <td>Missing</td>\n",
       "      <td>Missing</td>\n",
       "      <td>Clear</td>\n",
       "      <td>181</td>\n",
       "      <td>NaN</td>\n",
       "      <td>1.09</td>\n",
       "      <td>804.35</td>\n",
       "      <td>1</td>\n",
       "    </tr>\n",
       "  </tbody>\n",
       "</table>\n",
       "</div>"
      ],
      "text/plain": [
       "   Flight_ID    Airline  Departure_City  Arrival_City  Distance  \\\n",
       "0          1  Airline B           26290         21253    8286.0   \n",
       "1          2  Airline C           11232         11253    2942.0   \n",
       "2          3  Airline B            1634          1242    2468.0   \n",
       "3          4    Missing            1847         29887    3145.0   \n",
       "4          5  Airline B           28434          8060    5558.0   \n",
       "\n",
       "  Departure_Time Arrival_Time  Duration Aircraft_Type  Number_of_Stops  \\\n",
       "0           8:23        20:19     11.94    Boeing 787                0   \n",
       "1          20:28         1:45      5.29   Airbus A320                0   \n",
       "2          11:30        15:54      4.41    Boeing 787                1   \n",
       "3          20:24         1:21      4.96    Boeing 787                0   \n",
       "4          21:59         6:04      8.09    Boeing 737                1   \n",
       "\n",
       "  Day_of_Week Month_of_Travel Holiday_Season   Demand Weather_Conditions  \\\n",
       "0   Wednesday        December         Summer      Low               Rain   \n",
       "1   Wednesday           March         Spring      Low               Rain   \n",
       "2      Sunday       September         Summer     High             Cloudy   \n",
       "3      Sunday        February           Fall      Low             Cloudy   \n",
       "4    Thursday         January        Missing  Missing              Clear   \n",
       "\n",
       "   Passenger_Count Promotion_Type  Fuel_Price  Flight_Price  \\\n",
       "0              240  Special Offer        0.91        643.93   \n",
       "1              107            NaN        1.08        423.13   \n",
       "2              131            NaN        0.52        442.17   \n",
       "3              170       Discount        0.71        394.42   \n",
       "4              181            NaN        1.09        804.35   \n",
       "\n",
       "   Promotion_Type_Missing  \n",
       "0                       0  \n",
       "1                       1  \n",
       "2                       1  \n",
       "3                       0  \n",
       "4                       1  "
      ]
     },
     "execution_count": 10,
     "metadata": {},
     "output_type": "execute_result"
    }
   ],
   "source": [
    "data.head()"
   ]
  },
  {
   "cell_type": "code",
   "execution_count": 11,
   "id": "fe8cde32-74c0-48fc-aa3a-465ba7d8de3d",
   "metadata": {},
   "outputs": [],
   "source": [
    "# Extract hour of departure and arrival from 'Departure_Time' and 'Arrival_Time'\n",
    "# Convert 'Departure_Time' and 'Arrival_Time' to datetime objects\n",
    "data['Departure_Time'] = pd.to_datetime(data['Departure_Time'], format='%H:%M')\n",
    "data['Arrival_Time'] = pd.to_datetime(data['Arrival_Time'], format='%H:%M')"
   ]
  },
  {
   "cell_type": "code",
   "execution_count": 12,
   "id": "763e0ccf-5137-499a-8c4f-196a4fcb75d2",
   "metadata": {},
   "outputs": [],
   "source": [
    "# Extract hour and minute features from 'Departure_Time' and 'Arrival_Time'\n",
    "data['Departure_Hour'] = data['Departure_Time'].dt.hour\n",
    "data['Departure_Minute'] = data['Departure_Time'].dt.minute\n",
    "data['Arrival_Hour'] = data['Arrival_Time'].dt.hour\n",
    "data['Arrival_Minute'] = data['Arrival_Time'].dt.minute"
   ]
  },
  {
   "cell_type": "code",
   "execution_count": 13,
   "id": "588e7d23-f4d0-422f-bcf1-d937c6c94b2a",
   "metadata": {},
   "outputs": [],
   "source": [
    "# Drop the original 'Departure_Time' and 'Arrival_Time' columns\n",
    "data.drop(['Departure_Time', 'Arrival_Time'], axis=1, inplace=True)"
   ]
  },
  {
   "cell_type": "code",
   "execution_count": 14,
   "id": "4a4201f6-2766-4d07-ac58-1ee591804959",
   "metadata": {},
   "outputs": [],
   "source": [
    "# Convert categorical variables to numerical using label encoding\n",
    "label_encoders = {}\n",
    "categorical_columns = ['Aircraft_Type', 'Day_of_Week', 'Month_of_Travel', 'Demand','Holiday_Season', 'Weather_Conditions', 'Promotion_Type']\n",
    "\n",
    "data = pd.get_dummies(data, columns=['Airline'], drop_first=True)\n",
    "\n",
    "for column in categorical_columns:\n",
    "    le = LabelEncoder()\n",
    "    data[column] = le.fit_transform(data[column])\n",
    "    label_encoders[column] = le"
   ]
  },
  {
   "cell_type": "code",
   "execution_count": 15,
   "id": "fbf94e2b-a99f-453b-8f51-332db1b64a7f",
   "metadata": {},
   "outputs": [
    {
     "name": "stdout",
     "output_type": "stream",
     "text": [
      "<class 'pandas.core.frame.DataFrame'>\n",
      "RangeIndex: 45000 entries, 0 to 44999\n",
      "Data columns (total 24 columns):\n",
      " #   Column                  Non-Null Count  Dtype  \n",
      "---  ------                  --------------  -----  \n",
      " 0   Flight_ID               45000 non-null  int32  \n",
      " 1   Departure_City          45000 non-null  int64  \n",
      " 2   Arrival_City            45000 non-null  int64  \n",
      " 3   Distance                45000 non-null  float64\n",
      " 4   Duration                45000 non-null  float64\n",
      " 5   Aircraft_Type           45000 non-null  int32  \n",
      " 6   Number_of_Stops         45000 non-null  float64\n",
      " 7   Day_of_Week             45000 non-null  int32  \n",
      " 8   Month_of_Travel         45000 non-null  int32  \n",
      " 9   Holiday_Season          45000 non-null  int32  \n",
      " 10  Demand                  45000 non-null  int32  \n",
      " 11  Weather_Conditions      45000 non-null  int32  \n",
      " 12  Passenger_Count         45000 non-null  float64\n",
      " 13  Promotion_Type          45000 non-null  int32  \n",
      " 14  Fuel_Price              45000 non-null  float64\n",
      " 15  Flight_Price            45000 non-null  float64\n",
      " 16  Promotion_Type_Missing  45000 non-null  int32  \n",
      " 17  Departure_Hour          45000 non-null  int32  \n",
      " 18  Departure_Minute        45000 non-null  int32  \n",
      " 19  Arrival_Hour            45000 non-null  int32  \n",
      " 20  Arrival_Minute          45000 non-null  int32  \n",
      " 21  Airline_Airline B       45000 non-null  bool   \n",
      " 22  Airline_Airline C       45000 non-null  bool   \n",
      " 23  Airline_Missing         45000 non-null  bool   \n",
      "dtypes: bool(3), float64(6), int32(13), int64(2)\n",
      "memory usage: 5.1 MB\n"
     ]
    }
   ],
   "source": [
    "# Scaling/Normalizing numerical features\n",
    "scaler = StandardScaler()\n",
    "numeric_columns = ['Distance', 'Duration', 'Number_of_Stops', 'Fuel_Price', 'Passenger_Count']\n",
    "data[numeric_columns] = scaler.fit_transform(data[numeric_columns])\n",
    "data.info()\n"
   ]
  },
  {
   "cell_type": "code",
   "execution_count": 16,
   "id": "be898a2b-e655-4b6a-96a5-94b4a3c5e0d6",
   "metadata": {},
   "outputs": [],
   "source": [
    "\n",
    "# Feature Selection using SelectKBest and f_regression\n",
    "X = data.drop(['Flight_Price'], axis=1)\n",
    "y = data['Flight_Price']\n",
    "\n",
    "selector = SelectKBest(score_func=f_regression, k=10)  # You can adjust 'k' as needed\n",
    "X_selected = selector.fit_transform(X, y)\n",
    "selected_feature_indices = selector.get_support(indices=True)"
   ]
  },
  {
   "cell_type": "code",
   "execution_count": 17,
   "id": "631a3781-2cc3-44d7-96f5-0623963357c1",
   "metadata": {},
   "outputs": [],
   "source": [
    "# Get the names of selected features\n",
    "selected_features = X.columns[selected_feature_indices]"
   ]
  },
  {
   "cell_type": "code",
   "execution_count": 18,
   "id": "52d29790-223d-4cd5-a379-c8c699408fda",
   "metadata": {},
   "outputs": [],
   "source": [
    "# Split the data into training and testing sets\n",
    "X_train, X_test, y_train, y_test = train_test_split(X[selected_features], y, test_size=0.3, random_state=42)"
   ]
  },
  {
   "cell_type": "code",
   "execution_count": 19,
   "id": "87735f5c-dafa-4578-9be3-c7c6c103b28f",
   "metadata": {},
   "outputs": [],
   "source": [
    "# Initialize and train the XGBoost Regressor model\n",
    "xgb_regressor = XGBRegressor()\n",
    "param_grid = {\n",
    "    'n_estimators': [100, 200, 300],\n",
    "    'learning_rate': [0.01, 0.1, 0.2],\n",
    "    'max_depth': [3, 4, 5],\n",
    "    'min_child_weight': [1, 2, 3],\n",
    "    'gamma': [0, 0.1, 0.2],\n",
    "    'subsample': [0.8, 0.9, 1.0],\n",
    "    'colsample_bytree': [0.8, 0.9, 1.0],\n",
    "}\n",
    "scorer = make_scorer(mean_absolute_error, greater_is_better=False)\n",
    "random_search = RandomizedSearchCV(\n",
    "    xgb_regressor,\n",
    "    param_distributions=param_grid,\n",
    "    scoring=scorer,\n",
    "    cv=5,  # You can adjust the number of cross-validation folds\n",
    "    n_iter=50,  # Adjust the number of iterations as needed\n",
    "    verbose=0,  # Increase verbosity for progress updates\n",
    "    n_jobs=-1,  # Utilize all available CPU cores\n",
    "    random_state=42,  # Set a random seed for reproducibility\n",
    ")\n"
   ]
  },
  {
   "cell_type": "code",
   "execution_count": 20,
   "id": "7e16d529-7f18-47f3-81df-29df3fba9db9",
   "metadata": {},
   "outputs": [
    {
     "name": "stdout",
     "output_type": "stream",
     "text": [
      "XGBRegressor(base_score=None, booster=None, callbacks=None,\n",
      "             colsample_bylevel=None, colsample_bynode=None,\n",
      "             colsample_bytree=0.8, device=None, early_stopping_rounds=None,\n",
      "             enable_categorical=False, eval_metric=None, feature_types=None,\n",
      "             gamma=0.1, grow_policy=None, importance_type=None,\n",
      "             interaction_constraints=None, learning_rate=0.1, max_bin=None,\n",
      "             max_cat_threshold=None, max_cat_to_onehot=None,\n",
      "             max_delta_step=None, max_depth=5, max_leaves=None,\n",
      "             min_child_weight=1, missing=nan, monotone_constraints=None,\n",
      "             multi_strategy=None, n_estimators=200, n_jobs=None,\n",
      "             num_parallel_tree=None, random_state=None, ...)\n",
      "{'subsample': 1.0, 'n_estimators': 200, 'min_child_weight': 1, 'max_depth': 5, 'learning_rate': 0.1, 'gamma': 0.1, 'colsample_bytree': 0.8}\n",
      "Best Model MAE: 9.720765587384259\n",
      "Best Model RMSE: 13.169900073677315\n"
     ]
    }
   ],
   "source": [
    "# Fit the random search to the data\n",
    "random_search.fit(X_train, y_train)\n",
    "\n",
    "best_xgb_model = random_search.best_estimator_\n",
    "best_hyperparameters = random_search.best_params_\n",
    "\n",
    "print(best_xgb_model)\n",
    "print(best_hyperparameters)\n",
    "\n",
    "y_pred = best_xgb_model.predict(X_test)\n",
    "\n",
    "mae = mean_absolute_error(y_test, y_pred)\n",
    "mse = mean_squared_error(y_test, y_pred)\n",
    "rmse = np.sqrt(mse)\n",
    "\n",
    "print(f'Best Model MAE: {mae}')\n",
    "print(f'Best Model RMSE: {rmse}')\n",
    "\n",
    "test = pd.read_csv(\"data/test.csv\")"
   ]
  },
  {
   "cell_type": "code",
   "execution_count": 21,
   "id": "2c6def03-0382-4e5b-9bf8-54bb0ff7c03d",
   "metadata": {},
   "outputs": [],
   "source": [
    "# Handle missing values\n",
    "categorical_columns = ['Airline', 'Departure_City', 'Arrival_City', 'Demand', 'Aircraft_Type', 'Day_of_Week', 'Month_of_Travel','Holiday_Season','Weather_Conditions']\n",
    "\n",
    "for column in categorical_columns:\n",
    "    test[column].fillna('Missing', inplace=True)\n",
    "\n",
    "numerical_columns = ['Distance', 'Fuel_Price']\n",
    "\n",
    "for column in numerical_columns:\n",
    "    test[column].fillna(test[column].median(), inplace=True)\n",
    "\n",
    "data['Promotion_Type_Missing'] = test['Promotion_Type'].isnull().astype(int)\n",
    "\n",
    "data['Fuel_Price'].fillna(test['Fuel_Price'].median(), inplace=True)\n",
    "\n",
    "unique_cities = set(test['Departure_City'].unique()) | set(test['Arrival_City'].unique())\n",
    "city_mapping = {city: label for label, city in enumerate(unique_cities)}\n",
    "test['Departure_City'] = test['Departure_City'].map(city_mapping)\n",
    "test['Arrival_City'] = test['Arrival_City'].map(city_mapping)\n",
    "test['Flight_ID'] = test['Flight_ID'].str.extract('(\\d+)').astype(int)"
   ]
  },
  {
   "cell_type": "code",
   "execution_count": 22,
   "id": "eb312d8e-cab1-4a27-a1d8-0ed795fe76eb",
   "metadata": {},
   "outputs": [],
   "source": [
    "# Extract hour of departure and arrival from 'Departure_Time' and 'Arrival_Time'\n",
    "# Convert 'Departure_Time' and 'Arrival_Time' to datetime objects\n",
    "test['Departure_Time'] = pd.to_datetime(test['Departure_Time'],format='%H:%M')\n",
    "test['Arrival_Time'] = pd.to_datetime(test['Arrival_Time'],format='%H:%M')"
   ]
  },
  {
   "cell_type": "code",
   "execution_count": 23,
   "id": "44531a49-d062-4798-8b3a-ad5b0744f0b3",
   "metadata": {},
   "outputs": [],
   "source": [
    "# Extract hour and minute features from 'Departure_Time' and 'Arrival_Time'\n",
    "test['Departure_Hour'] = test['Departure_Time'].dt.hour\n",
    "test['Departure_Minute'] = test['Departure_Time'].dt.minute\n",
    "test['Arrival_Hour'] = test['Arrival_Time'].dt.hour\n",
    "test['Arrival_Minute'] = test['Arrival_Time'].dt.minute"
   ]
  },
  {
   "cell_type": "code",
   "execution_count": 24,
   "id": "11979bd1-5756-4424-b945-6083f99a0e54",
   "metadata": {},
   "outputs": [],
   "source": [
    "# Drop the original 'Departure_Time' and 'Arrival_Time' columns\n",
    "test.drop(['Departure_Time', 'Arrival_Time'], axis=1, inplace=True)\n"
   ]
  },
  {
   "cell_type": "code",
   "execution_count": 25,
   "id": "94b40e14-64ef-4a96-86d7-da1b76f166dc",
   "metadata": {},
   "outputs": [],
   "source": [
    "# Convert categorical variables to numerical using label encoding\n",
    "label_encoders = {}\n",
    "categorical_columns = ['Aircraft_Type', 'Day_of_Week', 'Month_of_Travel', 'Demand','Holiday_Season', 'Weather_Conditions', 'Promotion_Type']\n",
    "\n",
    "test = pd.get_dummies(test, columns=['Airline'], drop_first=True)\n",
    "\n",
    "for column in categorical_columns:\n",
    "    le = LabelEncoder()\n",
    "    test[column] = le.fit_transform(test[column])\n",
    "    label_encoders[column] = le\n"
   ]
  },
  {
   "cell_type": "code",
   "execution_count": 26,
   "id": "57aca0af-e027-4187-aaf3-ee6f874ded5a",
   "metadata": {},
   "outputs": [],
   "source": [
    "# Scaling/Normalizing numerical features\n",
    "scaler = StandardScaler()\n",
    "numeric_columns = ['Distance', 'Duration', 'Number_of_Stops', 'Fuel_Price', 'Passenger_Count']\n",
    "test[numeric_columns] = scaler.fit_transform(test[numeric_columns])\n",
    "test = test[['Distance', 'Duration', 'Aircraft_Type', 'Number_of_Stops',\n",
    "       'Day_of_Week', 'Month_of_Travel', 'Holiday_Season', 'Demand',\n",
    "       'Weather_Conditions', 'Fuel_Price']]\n",
    "test.head()\n",
    "\n",
    "y_pred = best_xgb_model.predict(test)"
   ]
  },
  {
   "cell_type": "code",
   "execution_count": 27,
   "id": "4576a0c1-9957-42d8-aed3-46bce0a89b70",
   "metadata": {},
   "outputs": [],
   "source": [
    "# Create a DataFrame with 'Flight_ID' and 'Predicted_Price' columns\n",
    "submission_df = pd.DataFrame({'Flight_ID': test.index, 'Flight_Price': y_pred})\n"
   ]
  },
  {
   "cell_type": "code",
   "execution_count": 28,
   "id": "adfbf8fe-4a17-4db1-8f85-6929e707dbf9",
   "metadata": {},
   "outputs": [],
   "source": [
    "# Save the DataFrame to a CSV file\n",
    "submission_df.to_csv('data/Submission.csv', index=False)"
   ]
  },
  {
   "cell_type": "code",
   "execution_count": null,
   "id": "f67da8c2-e778-4fc9-a34e-0f262d6a44be",
   "metadata": {},
   "outputs": [],
   "source": []
  }
 ],
 "metadata": {
  "kernelspec": {
   "display_name": "Python 3 (ipykernel)",
   "language": "python",
   "name": "python3"
  },
  "language_info": {
   "codemirror_mode": {
    "name": "ipython",
    "version": 3
   },
   "file_extension": ".py",
   "mimetype": "text/x-python",
   "name": "python",
   "nbconvert_exporter": "python",
   "pygments_lexer": "ipython3",
   "version": "3.11.5"
  }
 },
 "nbformat": 4,
 "nbformat_minor": 5
}
